{
 "cells": [
  {
   "cell_type": "code",
   "execution_count": 2,
   "metadata": {},
   "outputs": [],
   "source": [
    "import os\n",
    "import urllib.request\n",
    "from datetime import datetime\n",
    "import base64\n",
    "import requests\n",
    "import json"
   ]
  },
  {
   "cell_type": "code",
   "execution_count": 5,
   "metadata": {},
   "outputs": [
    {
     "data": {
      "text/plain": [
       "('/gstock/user/haas/RiboStopKB_database/data/raw/refseq/GCF.gff.gz',\n",
       " <http.client.HTTPMessage at 0x7f23d4906410>)"
      ]
     },
     "execution_count": 5,
     "metadata": {},
     "output_type": "execute_result"
    }
   ],
   "source": [
    "url = \"https://ftp.ncbi.nlm.nih.gov/refseq/H_sapiens/annotation/GRCh38_latest/refseq_identifiers/GRCh38_latest_genomic.gff.gz\"\n",
    "output_folder = \"/gstock/user/haas/RiboStopKB_database/data/raw/refseq/\"\n",
    "\n",
    "# Create the output folder if it does not exist\n",
    "os.makedirs(output_folder, exist_ok=True)\n",
    "\n",
    "output_file = os.path.join(output_folder, f\"GCF.gff.gz\")\n",
    "\n",
    "# Download the file using urllib.request\n",
    "urllib.request.urlretrieve(url, output_file)"
   ]
  },
  {
   "cell_type": "code",
   "execution_count": 6,
   "metadata": {},
   "outputs": [
    {
     "data": {
      "text/plain": [
       "('/gstock/user/haas/RiboStopKB_database/data/raw/refseq/MANE.txt.gz',\n",
       " <http.client.HTTPMessage at 0x7f23d49075d0>)"
      ]
     },
     "execution_count": 6,
     "metadata": {},
     "output_type": "execute_result"
    }
   ],
   "source": [
    "url = \"https://ftp.ncbi.nlm.nih.gov/refseq/MANE/MANE_human/current/MANE.GRCh38.v1.3.summary.txt.gz\"\n",
    "output_folder = \"/gstock/user/haas/RiboStopKB_database/data/raw/refseq/\"\n",
    "\n",
    "# Create the output folder if it does not exist\n",
    "os.makedirs(output_folder, exist_ok=True)\n",
    "\n",
    "output_file = os.path.join(output_folder, f\"MANE.txt.gz\")\n",
    "\n",
    "# Download the file using urllib.request\n",
    "urllib.request.urlretrieve(url, output_file)"
   ]
  },
  {
   "cell_type": "code",
   "execution_count": 3,
   "metadata": {},
   "outputs": [
    {
     "data": {
      "text/plain": [
       "('/gstock/user/haas/RiboStopKB_database/data/raw/clinvar/variant_summary.txt.gz',\n",
       " <http.client.HTTPMessage at 0x7f4a72547bd0>)"
      ]
     },
     "execution_count": 3,
     "metadata": {},
     "output_type": "execute_result"
    }
   ],
   "source": [
    "url = \"https://ftp.ncbi.nlm.nih.gov/pub/clinvar/tab_delimited/variant_summary.txt.gz\"\n",
    "output_folder = \"/gstock/user/haas/RiboStopKB_database/data/raw/clinvar/\"\n",
    "\n",
    "# Create the output folder if it does not exist\n",
    "os.makedirs(output_folder, exist_ok=True)\n",
    "\n",
    "output_file = os.path.join(output_folder, f\"variant_summary.txt.gz\")\n",
    "\n",
    "# Download the file using urllib.request\n",
    "urllib.request.urlretrieve(url, output_file)"
   ]
  },
  {
   "cell_type": "code",
   "execution_count": 2,
   "metadata": {},
   "outputs": [
    {
     "ename": "URLError",
     "evalue": "<urlopen error unknown url type: gs>",
     "output_type": "error",
     "traceback": [
      "\u001b[0;31m---------------------------------------------------------------------------\u001b[0m",
      "\u001b[0;31mURLError\u001b[0m                                  Traceback (most recent call last)",
      "Cell \u001b[0;32mIn[2], line 10\u001b[0m\n\u001b[1;32m      7\u001b[0m output_file \u001b[38;5;241m=\u001b[39m os\u001b[38;5;241m.\u001b[39mpath\u001b[38;5;241m.\u001b[39mjoin(output_folder, \u001b[38;5;124m\"\u001b[39m\u001b[38;5;124mgnomad.exomes.v4.0.sites.ht\u001b[39m\u001b[38;5;124m\"\u001b[39m)\n\u001b[1;32m      9\u001b[0m \u001b[38;5;66;03m# Download the file using urllib.request\u001b[39;00m\n\u001b[0;32m---> 10\u001b[0m urllib\u001b[38;5;241m.\u001b[39mrequest\u001b[38;5;241m.\u001b[39murlretrieve(url, output_file)\n",
      "File \u001b[0;32m~/.conda/envs/stopkb_database/lib/python3.11/urllib/request.py:241\u001b[0m, in \u001b[0;36murlretrieve\u001b[0;34m(url, filename, reporthook, data)\u001b[0m\n\u001b[1;32m    224\u001b[0m \u001b[38;5;124;03m\"\"\"\u001b[39;00m\n\u001b[1;32m    225\u001b[0m \u001b[38;5;124;03mRetrieve a URL into a temporary location on disk.\u001b[39;00m\n\u001b[1;32m    226\u001b[0m \n\u001b[0;32m   (...)\u001b[0m\n\u001b[1;32m    237\u001b[0m \u001b[38;5;124;03mdata file as well as the resulting HTTPMessage object.\u001b[39;00m\n\u001b[1;32m    238\u001b[0m \u001b[38;5;124;03m\"\"\"\u001b[39;00m\n\u001b[1;32m    239\u001b[0m url_type, path \u001b[38;5;241m=\u001b[39m _splittype(url)\n\u001b[0;32m--> 241\u001b[0m \u001b[38;5;28;01mwith\u001b[39;00m contextlib\u001b[38;5;241m.\u001b[39mclosing(urlopen(url, data)) \u001b[38;5;28;01mas\u001b[39;00m fp:\n\u001b[1;32m    242\u001b[0m     headers \u001b[38;5;241m=\u001b[39m fp\u001b[38;5;241m.\u001b[39minfo()\n\u001b[1;32m    244\u001b[0m     \u001b[38;5;66;03m# Just return the local path and the \"headers\" for file://\u001b[39;00m\n\u001b[1;32m    245\u001b[0m     \u001b[38;5;66;03m# URLs. No sense in performing a copy unless requested.\u001b[39;00m\n",
      "File \u001b[0;32m~/.conda/envs/stopkb_database/lib/python3.11/urllib/request.py:216\u001b[0m, in \u001b[0;36murlopen\u001b[0;34m(url, data, timeout, cafile, capath, cadefault, context)\u001b[0m\n\u001b[1;32m    214\u001b[0m \u001b[38;5;28;01melse\u001b[39;00m:\n\u001b[1;32m    215\u001b[0m     opener \u001b[38;5;241m=\u001b[39m _opener\n\u001b[0;32m--> 216\u001b[0m \u001b[38;5;28;01mreturn\u001b[39;00m opener\u001b[38;5;241m.\u001b[39mopen(url, data, timeout)\n",
      "File \u001b[0;32m~/.conda/envs/stopkb_database/lib/python3.11/urllib/request.py:519\u001b[0m, in \u001b[0;36mOpenerDirector.open\u001b[0;34m(self, fullurl, data, timeout)\u001b[0m\n\u001b[1;32m    516\u001b[0m     req \u001b[38;5;241m=\u001b[39m meth(req)\n\u001b[1;32m    518\u001b[0m sys\u001b[38;5;241m.\u001b[39maudit(\u001b[38;5;124m'\u001b[39m\u001b[38;5;124murllib.Request\u001b[39m\u001b[38;5;124m'\u001b[39m, req\u001b[38;5;241m.\u001b[39mfull_url, req\u001b[38;5;241m.\u001b[39mdata, req\u001b[38;5;241m.\u001b[39mheaders, req\u001b[38;5;241m.\u001b[39mget_method())\n\u001b[0;32m--> 519\u001b[0m response \u001b[38;5;241m=\u001b[39m \u001b[38;5;28mself\u001b[39m\u001b[38;5;241m.\u001b[39m_open(req, data)\n\u001b[1;32m    521\u001b[0m \u001b[38;5;66;03m# post-process response\u001b[39;00m\n\u001b[1;32m    522\u001b[0m meth_name \u001b[38;5;241m=\u001b[39m protocol\u001b[38;5;241m+\u001b[39m\u001b[38;5;124m\"\u001b[39m\u001b[38;5;124m_response\u001b[39m\u001b[38;5;124m\"\u001b[39m\n",
      "File \u001b[0;32m~/.conda/envs/stopkb_database/lib/python3.11/urllib/request.py:541\u001b[0m, in \u001b[0;36mOpenerDirector._open\u001b[0;34m(self, req, data)\u001b[0m\n\u001b[1;32m    538\u001b[0m \u001b[38;5;28;01mif\u001b[39;00m result:\n\u001b[1;32m    539\u001b[0m     \u001b[38;5;28;01mreturn\u001b[39;00m result\n\u001b[0;32m--> 541\u001b[0m \u001b[38;5;28;01mreturn\u001b[39;00m \u001b[38;5;28mself\u001b[39m\u001b[38;5;241m.\u001b[39m_call_chain(\u001b[38;5;28mself\u001b[39m\u001b[38;5;241m.\u001b[39mhandle_open, \u001b[38;5;124m'\u001b[39m\u001b[38;5;124munknown\u001b[39m\u001b[38;5;124m'\u001b[39m,\n\u001b[1;32m    542\u001b[0m                         \u001b[38;5;124m'\u001b[39m\u001b[38;5;124munknown_open\u001b[39m\u001b[38;5;124m'\u001b[39m, req)\n",
      "File \u001b[0;32m~/.conda/envs/stopkb_database/lib/python3.11/urllib/request.py:496\u001b[0m, in \u001b[0;36mOpenerDirector._call_chain\u001b[0;34m(self, chain, kind, meth_name, *args)\u001b[0m\n\u001b[1;32m    494\u001b[0m \u001b[38;5;28;01mfor\u001b[39;00m handler \u001b[38;5;129;01min\u001b[39;00m handlers:\n\u001b[1;32m    495\u001b[0m     func \u001b[38;5;241m=\u001b[39m \u001b[38;5;28mgetattr\u001b[39m(handler, meth_name)\n\u001b[0;32m--> 496\u001b[0m     result \u001b[38;5;241m=\u001b[39m func(\u001b[38;5;241m*\u001b[39margs)\n\u001b[1;32m    497\u001b[0m     \u001b[38;5;28;01mif\u001b[39;00m result \u001b[38;5;129;01mis\u001b[39;00m \u001b[38;5;129;01mnot\u001b[39;00m \u001b[38;5;28;01mNone\u001b[39;00m:\n\u001b[1;32m    498\u001b[0m         \u001b[38;5;28;01mreturn\u001b[39;00m result\n",
      "File \u001b[0;32m~/.conda/envs/stopkb_database/lib/python3.11/urllib/request.py:1419\u001b[0m, in \u001b[0;36mUnknownHandler.unknown_open\u001b[0;34m(self, req)\u001b[0m\n\u001b[1;32m   1417\u001b[0m \u001b[38;5;28;01mdef\u001b[39;00m \u001b[38;5;21munknown_open\u001b[39m(\u001b[38;5;28mself\u001b[39m, req):\n\u001b[1;32m   1418\u001b[0m     \u001b[38;5;28mtype\u001b[39m \u001b[38;5;241m=\u001b[39m req\u001b[38;5;241m.\u001b[39mtype\n\u001b[0;32m-> 1419\u001b[0m     \u001b[38;5;28;01mraise\u001b[39;00m URLError(\u001b[38;5;124m'\u001b[39m\u001b[38;5;124munknown url type: \u001b[39m\u001b[38;5;132;01m%s\u001b[39;00m\u001b[38;5;124m'\u001b[39m \u001b[38;5;241m%\u001b[39m \u001b[38;5;28mtype\u001b[39m)\n",
      "\u001b[0;31mURLError\u001b[0m: <urlopen error unknown url type: gs>"
     ]
    }
   ],
   "source": [
    "for i in list(range(1, 23)) + ['X', 'Y']:\n",
    "    url = f\"https://storage.googleapis.com/gcp-public-data--gnomad/release/4.0/vcf/exomes/gnomad.exomes.v4.0.sites.chr{i}.vcf.bgz\"\n",
    "    output_folder = \"/gstock/user/haas/RiboStopKB_database/data/raw/gnomad/\"\n",
    "\n",
    "    # Create the output folder if it does not exist\n",
    "    os.makedirs(output_folder, exist_ok=True)\n",
    "\n",
    "    output_file = os.path.join(output_folder, f\"gnomad.exomes.v4.0.sites.chr{i}.vcf.bgz\")\n",
    "\n",
    "    # Download the file using urllib.request\n",
    "    urllib.request.urlretrieve(url, output_file)"
   ]
  },
  {
   "cell_type": "code",
   "execution_count": 3,
   "metadata": {},
   "outputs": [],
   "source": [
    "# To execute in terminal: export COSMIC_PASSWORD=mycosmicpassword\n",
    "# \"mycosmicpassword\" stands for your personnal COSMIC password\n",
    "# Your email and COSMIC password\n",
    "\n",
    "email = os.getenv(\"EMAIL\")\n",
    "password = os.getenv(\"COSMIC_PASSWORD\")\n",
    "\n",
    "# Encode in base 64\n",
    "auth_string = base64.b64encode(f\"{email}:{password}\".encode()).decode()\n",
    "\n",
    "# URL to obtain download link\n",
    "url = \"https://cancer.sanger.ac.uk/cosmic/file_download/GRCh38/cosmic/v99/CosmicMutantExport.tsv.gz\"\n",
    "\n",
    "# Do the request to obtain download link\n",
    "response = requests.get(url, headers={\"Authorization\": f\"Basic {auth_string}\"})\n",
    "\n",
    "# Verify that the request was successful\n",
    "if response.status_code == 200:\n",
    "    download_url = response.json()[\"url\"]\n",
    "else:\n",
    "    print(f\"Erreur lors de la requête: {response.status_code}\")\n",
    "    download_url = None\n",
    "\n",
    "if download_url is not None:\n",
    "    output_folder = \"/gstock/user/haas/RiboStopKB_database/data/raw/cosmic/\"\n",
    "\n",
    "    # Create the output folder if it does not exist\n",
    "    os.makedirs(output_folder, exist_ok=True)\n",
    "\n",
    "    # Add the current date to the file name\n",
    "    output_file = os.path.join(output_folder, f\"CosmicMutantExport.tsv.gz\")\n",
    "\n",
    "    # Download the file using urllib.request\n",
    "    urllib.request.urlretrieve(download_url, output_file)"
   ]
  },
  {
   "cell_type": "code",
   "execution_count": 18,
   "metadata": {},
   "outputs": [
    {
     "data": {
      "text/plain": [
       "('/gstock/user/haas/RiboStopKB_database/data/raw/hpo/phenotype_to_genes.txt',\n",
       " <http.client.HTTPMessage at 0x7f5173cef650>)"
      ]
     },
     "execution_count": 18,
     "metadata": {},
     "output_type": "execute_result"
    }
   ],
   "source": [
    "# URL du fichier\n",
    "url_phenotype_to_genes = \"http://purl.obolibrary.org/obo/hp/hpoa/phenotype_to_genes.txt\"\n",
    "\n",
    "# Dossier de sortie\n",
    "output_folder = \"/gstock/user/haas/RiboStopKB_database/data/raw/hpo/\"\n",
    "\n",
    "# Créez le dossier de sortie s'il n'existe pas\n",
    "os.makedirs(output_folder, exist_ok=True)\n",
    "\n",
    "# Ajoutez la date actuelle au nom du fichier\n",
    "output_file = os.path.join(output_folder, f\"phenotype_to_genes.txt\")\n",
    "\n",
    "# Téléchargez le fichier\n",
    "urllib.request.urlretrieve(url_phenotype_to_genes, output_file)\n"
   ]
  },
  {
   "cell_type": "code",
   "execution_count": 19,
   "metadata": {},
   "outputs": [
    {
     "data": {
      "text/plain": [
       "('/gstock/user/haas/RiboStopKB_database/data/raw/hpo/hp.obo',\n",
       " <http.client.HTTPMessage at 0x7f51885dd890>)"
      ]
     },
     "execution_count": 19,
     "metadata": {},
     "output_type": "execute_result"
    }
   ],
   "source": [
    "# URL du fichier\n",
    "url_hp_obo = \"http://purl.obolibrary.org/obo/hp.obo\"\n",
    "\n",
    "# Dossier de sortie\n",
    "output_folder = \"/gstock/user/haas/RiboStopKB_database/data/raw/hpo/\"\n",
    "\n",
    "# Créez le dossier de sortie s'il n'existe pas\n",
    "os.makedirs(output_folder, exist_ok=True)\n",
    "\n",
    "# Ajoutez la date actuelle au nom du fichier\n",
    "output_file = os.path.join(output_folder, f\"hp.obo\")\n",
    "\n",
    "# Téléchargez le fichier\n",
    "urllib.request.urlretrieve(url_hp_obo, output_file)"
   ]
  },
  {
   "cell_type": "code",
   "execution_count": 4,
   "metadata": {},
   "outputs": [
    {
     "data": {
      "text/plain": [
       "('/gstock/user/haas/RiboStopKB_database/data/raw/HGNC/gene_with_protein_product.txt',\n",
       " <http.client.HTTPMessage at 0x7f1f94dac950>)"
      ]
     },
     "execution_count": 4,
     "metadata": {},
     "output_type": "execute_result"
    }
   ],
   "source": [
    "url_HGNC = \"https://ftp.ebi.ac.uk/pub/databases/genenames/hgnc/tsv/locus_types/gene_with_protein_product.txt\"\n",
    "\n",
    "output_folder = \"/gstock/user/haas/RiboStopKB_database/data/raw/HGNC/\"\n",
    "\n",
    "# Create the output folder if it does not exist\n",
    "os.makedirs(output_folder, exist_ok=True)\n",
    "\n",
    "# Add the current date to the file name\n",
    "output_file = os.path.join(output_folder, f\"gene_with_protein_product.txt\")\n",
    "\n",
    "# Download the file using urllib.request\n",
    "urllib.request.urlretrieve(url_HGNC, output_file)"
   ]
  },
  {
   "cell_type": "code",
   "execution_count": 12,
   "metadata": {},
   "outputs": [],
   "source": [
    "def fetch_domains(protein_id):\n",
    "    domains = []\n",
    "    url = f\"https://www.ebi.ac.uk/interpro/api/entry/all/protein/reviewed/{protein_id}?page_size=200\"\n",
    "    \n",
    "    while url:\n",
    "        response = requests.get(url)\n",
    "        if response.status_code == 200:\n",
    "            data = json.loads(response.text)\n",
    "            domains.extend(parse_domains(data))\n",
    "            url = data.get('next')\n",
    "        else:\n",
    "            url = None\n",
    "    return domains\n",
    "\n",
    "def parse_domains(data):\n",
    "    domains = []\n",
    "    if 'results' in data:\n",
    "        for result in data['results']:\n",
    "            if 'proteins' in result:\n",
    "                for protein in result['proteins']:\n",
    "                    if 'entry_protein_locations' in protein:\n",
    "                        for location in protein['entry_protein_locations']:\n",
    "                            for fragment in location['fragments']:\n",
    "                                if fragment['representative']:\n",
    "                                    domain_info = f\"{result['metadata']['name']};{fragment['start']};{fragment['end']}\"\n",
    "                                    domains.append(domain_info)\n",
    "    return domains\n",
    "\n",
    "def process_proteins(file_in, file_out):\n",
    "    with open(file_in, 'r') as f_in, open(file_out, 'w') as f_out:\n",
    "        next(f_in)\n",
    "        for line in f_in:\n",
    "            columns = line.strip().split('\\t')\n",
    "            gene_symbol = columns[1]\n",
    "            protein_id = columns[25]\n",
    "            domains = fetch_domains(protein_id)\n",
    "            domain_str = '\\t'.join(domains)\n",
    "            f_out.write(f\"{gene_symbol}\\t{protein_id}\\t{domain_str}\\n\")\n",
    "\n",
    "process_proteins('../data/raw/HGNC/gene_with_protein_product.txt', '../data/raw/HGNC/human_prot_domains.tsv')"
   ]
  }
 ],
 "metadata": {
  "kernelspec": {
   "display_name": "ribostopkb_database",
   "language": "python",
   "name": "python3"
  },
  "language_info": {
   "codemirror_mode": {
    "name": "ipython",
    "version": 3
   },
   "file_extension": ".py",
   "mimetype": "text/x-python",
   "name": "python",
   "nbconvert_exporter": "python",
   "pygments_lexer": "ipython3",
   "version": "3.11.0"
  },
  "orig_nbformat": 4
 },
 "nbformat": 4,
 "nbformat_minor": 2
}
